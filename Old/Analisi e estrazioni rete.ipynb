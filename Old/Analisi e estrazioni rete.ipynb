{
 "cells": [
  {
   "cell_type": "code",
   "execution_count": null,
   "id": "d7451b73",
   "metadata": {},
   "outputs": [],
   "source": [
    "import pandas as pd\n",
    "import networkx as nx\n",
    "import matplotlib.pyplot as plt\n",
    "import os\n",
    "from cdlib import algorithms\n",
    "from networkx.algorithms import community"
   ]
  },
  {
   "cell_type": "code",
   "execution_count": null,
   "id": "725d6ff0",
   "metadata": {},
   "outputs": [],
   "source": [
    "# === 1. Caricare la matrice di adiacenza dal file Excel ===\n",
    "file_primotempo = \"Partite/Serie A 2024-25/12a Giornata_Inter-Napoli/Primo tempo_12a Giornata 2024-25_Inter Napoli.xlsx\"\n",
    "df1 = pd.read_excel(file_primotempo, index_col=0)\n",
    "file_secondotempo = \"Partite/Serie A 2024-25/12a Giornata_Inter-Napoli/Secondo tempo_12a Giornata 2024-25_Inter Napoli.xlsx\"\n",
    "df2 = pd.read_excel(file_secondotempo, index_col=0)\n",
    "df = df1.add(df2, fill_value=0)"
   ]
  },
  {
   "cell_type": "code",
   "execution_count": null,
   "id": "6b93d4d4",
   "metadata": {},
   "outputs": [],
   "source": [
    "# === 2. Creare il grafo ===\n",
    "G1 = nx.from_pandas_adjacency(df1, create_using=nx.DiGraph)\n",
    "isolated_nodes = list(nx.isolates(G1))\n",
    "G1_clean = G1.copy()\n",
    "G1_clean.remove_nodes_from(isolated_nodes)\n",
    "nx.is_connected(G1_clean.to_undirected())\n",
    "G2 = nx.from_pandas_adjacency(df2, create_using=nx.DiGraph)\n",
    "G = nx.from_pandas_adjacency(df, create_using=nx.DiGraph)"
   ]
  },
  {
   "cell_type": "code",
   "execution_count": null,
   "id": "16fbc372",
   "metadata": {},
   "outputs": [],
   "source": [
    "# === 3. Calcolare misure di centralità ===\n",
    "degree_centrality_1 = nx.degree_centrality(G1)\n",
    "in_degree_centrality_1 = nx.in_degree_centrality(G1)\n",
    "out_degree_centrality_1 = nx.out_degree_centrality(G1)\n",
    "betweenness_centrality_1 = nx.betweenness_centrality(G1, weight='weight')\n",
    "clustering_coefficient_1 = nx.clustering(G1, weight='weight')\n",
    "\n",
    "degree_centrality_2 = nx.degree_centrality(G2)\n",
    "in_degree_centrality_2 = nx.in_degree_centrality(G2)\n",
    "out_degree_centrality_2 = nx.out_degree_centrality(G2)\n",
    "betweenness_centrality_2 = nx.betweenness_centrality(G2, weight='weight')\n",
    "clustering_coefficient_2 = nx.clustering(G2, weight='weight')\n",
    "\n",
    "degree_centrality = nx.degree_centrality(G)\n",
    "in_degree_centrality = nx.in_degree_centrality(G)\n",
    "out_degree_centrality = nx.out_degree_centrality(G)\n",
    "betweenness_centrality = nx.betweenness_centrality(G, weight='weight')\n",
    "clustering_coefficient = nx.clustering(G, weight='weight')"
   ]
  },
  {
   "cell_type": "code",
   "execution_count": null,
   "id": "2b3f4fc3",
   "metadata": {},
   "outputs": [],
   "source": [
    "# === 4. Trova comunità ===\n",
    "communities1 = algorithms.louvain(G1_clean.to_undirected(), weight = \"weight\")\n",
    "communities2 = algorithms.louvain(G2.to_undirected(), weight = \"weight\")\n",
    "communities = algorithms.louvain(G.to_undirected(), weight = \"weight\")"
   ]
  },
  {
   "cell_type": "code",
   "execution_count": null,
   "id": "c952f37c",
   "metadata": {},
   "outputs": [],
   "source": [
    "# Crea un mapping giocatore → numero comunità\n",
    "player_to_comm1 = {}\n",
    "for i, comm in enumerate(communities1.communities):\n",
    "    for player in comm:\n",
    "        player_to_comm1[player] = i + 1\n",
    "\n",
    "player_to_comm2 = {}\n",
    "for i, comm in enumerate(communities2.communities):\n",
    "    for player in comm:\n",
    "        player_to_comm2[player] = i + 1\n",
    "\n",
    "player_to_comm = {}\n",
    "for i, comm in enumerate(communities.communities):\n",
    "    for player in comm:\n",
    "        player_to_comm[player] = i + 1"
   ]
  },
  {
   "cell_type": "code",
   "execution_count": null,
   "id": "9d4fc39a",
   "metadata": {},
   "outputs": [],
   "source": [
    "print(communities.communities)"
   ]
  },
  {
   "cell_type": "code",
   "execution_count": null,
   "id": "6008d319",
   "metadata": {},
   "outputs": [],
   "source": [
    "# === 5. Prepara DataFrame ===\n",
    "data1 = []\n",
    "\n",
    "for player in G1.nodes():\n",
    "    data1.append({\n",
    "        \"Player\": player,\n",
    "        \"DegreeCentrality\": degree_centrality_1.get(player, 0),\n",
    "        \"InDegreeCentrality\": in_degree_centrality_1.get(player, 0),\n",
    "        \"OutDegreeCentrality\": out_degree_centrality_1.get(player, 0),\n",
    "        \"BetweennessCentrality\": betweenness_centrality_1.get(player, 0),\n",
    "        \"ClusteringCoefficient\": clustering_coefficient_1.get(player, 0),\n",
    "        \"Community\": player_to_comm1.get(player, \"\")\n",
    "    })\n",
    "\n",
    "df_metrics1 = pd.DataFrame(data1)\n",
    "df_metrics1 = df_metrics1.sort_values(by=\"DegreeCentrality\", ascending=False)\n",
    "\n",
    "data2 = []\n",
    "\n",
    "for player in G2.nodes():\n",
    "    data2.append({\n",
    "        \"Player\": player,\n",
    "        \"DegreeCentrality\": degree_centrality_2.get(player, 0),\n",
    "        \"InDegreeCentrality\": in_degree_centrality_2.get(player, 0),\n",
    "        \"OutDegreeCentrality\": out_degree_centrality_2.get(player, 0),\n",
    "        \"BetweennessCentrality\": betweenness_centrality_2.get(player, 0),\n",
    "        \"ClusteringCoefficient\": clustering_coefficient_2.get(player, 0),\n",
    "        \"Community\": player_to_comm2.get(player, -1)\n",
    "    })\n",
    "\n",
    "df_metrics2 = pd.DataFrame(data2)\n",
    "df_metrics2 = df_metrics2.sort_values(by=\"DegreeCentrality\", ascending=False)\n",
    "\n",
    "data = []\n",
    "\n",
    "for player in G.nodes():\n",
    "    data.append({\n",
    "        \"Player\": player,\n",
    "        \"DegreeCentrality\": degree_centrality.get(player, 0),\n",
    "        \"InDegreeCentrality\": in_degree_centrality.get(player, 0),\n",
    "        \"OutDegreeCentrality\": out_degree_centrality.get(player, 0),\n",
    "        \"BetweennessCentrality\": betweenness_centrality.get(player, 0),\n",
    "        \"ClusteringCoefficient\": clustering_coefficient.get(player, 0),\n",
    "        \"Community\": player_to_comm.get(player, -1)\n",
    "    })\n",
    "\n",
    "df_metrics = pd.DataFrame(data)\n",
    "df_metrics = df_metrics.sort_values(by=\"DegreeCentrality\", ascending=False)"
   ]
  },
  {
   "cell_type": "code",
   "execution_count": null,
   "id": "3c09a1cb",
   "metadata": {},
   "outputs": [],
   "source": [
    "output_dir = \"Output\"\n",
    "excel_path = os.path.join(output_dir, \"analisi_centralita_completa.xlsx\")\n",
    "with pd.ExcelWriter(excel_path) as writer:\n",
    "    df_metrics1.to_excel(writer, sheet_name=\"Primo Tempo\", index=False)\n",
    "    df_metrics2.to_excel(writer, sheet_name=\"Secondo Tempo\", index=False)\n",
    "    df_metrics.to_excel(writer, sheet_name=\"Partita Totale\", index=False)\n",
    "\n",
    "print(f\"✅ File Excel salvato: {excel_path}\")"
   ]
  },
  {
   "cell_type": "code",
   "execution_count": null,
   "id": "ccb319bf",
   "metadata": {},
   "outputs": [],
   "source": [
    "# === Aggiungi attributi ai nodi ===\n",
    "for node in G.nodes():\n",
    "    G.nodes[node][\"DegreeCentrality\"] = degree_centrality.get(node, 0)\n",
    "    G.nodes[node][\"InDegreeCentrality\"] = in_degree_centrality.get(node, 0)\n",
    "    G.nodes[node][\"OutDegreeCentrality\"] = out_degree_centrality.get(node, 0)\n",
    "    G.nodes[node][\"BetweennessCentrality\"] = betweenness_centrality.get(node, 0)\n",
    "    G.nodes[node][\"ClusteringCoefficient\"] = clustering_coefficient.get(node, 0)\n",
    "    G.nodes[node][\"Community\"] = player_to_comm.get(node, -1)\n",
    "\n",
    "for node in G1.nodes():\n",
    "    G1.nodes[node][\"DegreeCentrality\"] = degree_centrality_1.get(node, 0)\n",
    "    G1.nodes[node][\"InDegreeCentrality\"] = in_degree_centrality_1.get(node, 0)\n",
    "    G1.nodes[node][\"OutDegreeCentrality\"] = out_degree_centrality_1.get(node, 0)\n",
    "    G1.nodes[node][\"BetweennessCentrality\"] = betweenness_centrality_1.get(node, 0)\n",
    "    G1.nodes[node][\"ClusteringCoefficient\"] = clustering_coefficient_1.get(node, 0)\n",
    "    G1.nodes[node][\"Community\"] = player_to_comm1.get(node, -1)\n",
    "\n",
    "for node in G2.nodes():\n",
    "    G2.nodes[node][\"DegreeCentrality\"] = degree_centrality_2.get(node, 0)\n",
    "    G2.nodes[node][\"InDegreeCentrality\"] = in_degree_centrality_2.get(node, 0)\n",
    "    G2.nodes[node][\"OutDegreeCentrality\"] = out_degree_centrality_2.get(node, 0)\n",
    "    G2.nodes[node][\"BetweennessCentrality\"] = betweenness_centrality_2.get(node, 0)\n",
    "    G2.nodes[node][\"ClusteringCoefficient\"] = clustering_coefficient_2.get(node, 0)\n",
    "    G2.nodes[node][\"Community\"] = player_to_comm2.get(node, -1)"
   ]
  },
  {
   "cell_type": "code",
   "execution_count": null,
   "id": "dd1ee5ec",
   "metadata": {},
   "outputs": [],
   "source": [
    "gexf_path = os.path.join(output_dir, \"rete_partita.gexf\")\n",
    "nx.write_gexf(G, gexf_path)\n",
    "print(f\"✅ File GEXF salvato: {gexf_path}\")\n",
    "\n",
    "gexf_path1 = os.path.join(output_dir, \"rete_primo tempo.gexf\")\n",
    "nx.write_gexf(G1, gexf_path1)\n",
    "print(f\"✅ File GEXF salvato: {gexf_path1}\")\n",
    "\n",
    "gexf_path2 = os.path.join(output_dir, \"rete_secondo tempo.gexf\")\n",
    "nx.write_gexf(G1, gexf_path2)\n",
    "print(f\"✅ File GEXF salvato: {gexf_path2}\")"
   ]
  }
 ],
 "metadata": {
  "kernelspec": {
   "display_name": "Python 3",
   "language": "python",
   "name": "python3"
  },
  "language_info": {
   "codemirror_mode": {
    "name": "ipython",
    "version": 3
   },
   "file_extension": ".py",
   "mimetype": "text/x-python",
   "name": "python",
   "nbconvert_exporter": "python",
   "pygments_lexer": "ipython3",
   "version": "3.13.5"
  }
 },
 "nbformat": 4,
 "nbformat_minor": 5
}

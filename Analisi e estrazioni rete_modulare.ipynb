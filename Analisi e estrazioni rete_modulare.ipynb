{
 "cells": [
  {
   "cell_type": "code",
   "execution_count": 1,
   "id": "8d3f1939",
   "metadata": {},
   "outputs": [
    {
     "name": "stdout",
     "output_type": "stream",
     "text": [
      "Note: to be able to use all crisp methods, you need to install some additional packages:  {'wurlitzer', 'bayanpy', 'graph_tool', 'infomap'}\n",
      "Note: to be able to use all crisp methods, you need to install some additional packages:  {'pyclustering', 'ASLPAw'}\n",
      "Note: to be able to use all crisp methods, you need to install some additional packages:  {'wurlitzer', 'infomap'}\n"
     ]
    }
   ],
   "source": [
    "import pandas as pd\n",
    "import networkx as nx\n",
    "import os\n",
    "from cdlib import algorithms\n",
    "import logging\n",
    "\n",
    "logging.basicConfig(level=logging.INFO)"
   ]
  },
  {
   "cell_type": "code",
   "execution_count": 2,
   "id": "8e01bbca",
   "metadata": {},
   "outputs": [],
   "source": [
    "# === 1. Caricamento dati ===\n",
    "def load_adjacency_matrix(file_path):\n",
    "    return pd.read_excel(file_path, index_col=0)\n",
    "\n",
    "def merge_halves(df1, df2):\n",
    "    return df1.add(df2, fill_value=0)"
   ]
  },
  {
   "cell_type": "code",
   "execution_count": 3,
   "id": "79a83329",
   "metadata": {},
   "outputs": [],
   "source": [
    "# === 2. Costruzione e pulizia grafo ===\n",
    "def build_graph(df):\n",
    "    return nx.from_pandas_adjacency(df, create_using=nx.DiGraph)\n",
    "\n",
    "def clean_graph(G):\n",
    "    G_clean = G.copy()\n",
    "    G_clean.remove_nodes_from(list(nx.isolates(G_clean)))\n",
    "    return G_clean"
   ]
  },
  {
   "cell_type": "code",
   "execution_count": 4,
   "id": "3f56b43a",
   "metadata": {},
   "outputs": [],
   "source": [
    "# === 3. Calcolo delle misure di centralità ===\n",
    "def compute_centrality(G):\n",
    "    return {\n",
    "        \"DegreeCentrality\": nx.degree_centrality(G),\n",
    "        \"InDegreeCentrality\": nx.in_degree_centrality(G),\n",
    "        \"OutDegreeCentrality\": nx.out_degree_centrality(G),\n",
    "        \"BetweennessCentrality\": nx.betweenness_centrality(G, weight='weight'),\n",
    "        \"ClusteringCoefficient\": nx.clustering(G, weight='weight')\n",
    "    }"
   ]
  },
  {
   "cell_type": "code",
   "execution_count": 12,
   "id": "bb0a7db9",
   "metadata": {},
   "outputs": [],
   "source": [
    "# === 4. Rilevamento comunità ===\n",
    "def detect_communities(G, clean=False, exclude_nodes=None):\n",
    "    if clean:\n",
    "        G = clean_graph(G)\n",
    "\n",
    "    if exclude_nodes:\n",
    "        G = G.copy()\n",
    "        G.remove_nodes_from(exclude_nodes)\n",
    "\n",
    "    communities = algorithms.louvain(G.to_undirected(), weight='weight', randomize=False)\n",
    "    mapping = {}\n",
    "    for i, comm in enumerate(communities.communities):\n",
    "        for player in comm:\n",
    "            mapping[player] = i + 1\n",
    "    return communities, mapping"
   ]
  },
  {
   "cell_type": "code",
   "execution_count": null,
   "id": "2c7b6227",
   "metadata": {},
   "outputs": [],
   "source": [
    "# === 5. Creazione DataFrame ===\n",
    "def create_metrics_df(G, centrality_dict, community_map):\n",
    "    data = []\n",
    "    for player in G.nodes():\n",
    "        data.append({\n",
    "            \"Player\": player,\n",
    "            \"DegreeCentrality\": centrality_dict[\"DegreeCentrality\"].get(player, 0),\n",
    "            \"InDegreeCentrality\": centrality_dict[\"InDegreeCentrality\"].get(player, 0),\n",
    "            \"OutDegreeCentrality\": centrality_dict[\"OutDegreeCentrality\"].get(player, 0),\n",
    "            \"BetweennessCentrality\": centrality_dict[\"BetweennessCentrality\"].get(player, 0),\n",
    "            \"ClusteringCoefficient\": centrality_dict[\"ClusteringCoefficient\"].get(player, 0),\n",
    "            \"Community\": community_map.get(player, -1)\n",
    "        })\n",
    "    return pd.DataFrame(data).sort_values(by=\"DegreeCentrality\", ascending=False)"
   ]
  },
  {
   "cell_type": "code",
   "execution_count": 7,
   "id": "52d65157",
   "metadata": {},
   "outputs": [],
   "source": [
    "# === 6. Esportazione ===\n",
    "def export_excel(output_dir, file_name, dfs_dict):\n",
    "    path = os.path.join(output_dir, file_name)\n",
    "    with pd.ExcelWriter(path) as writer:\n",
    "        for sheet_name, df in dfs_dict.items():\n",
    "            df.to_excel(writer, sheet_name=sheet_name, index=False)\n",
    "    logging.info(f\"✅ File Excel salvato: {path}\")\n",
    "\n",
    "def export_gexf(output_dir, name, G):\n",
    "    path = os.path.join(output_dir, f\"{name}.gexf\")\n",
    "    nx.write_gexf(G, path)\n",
    "    logging.info(f\"✅ File GEXF salvato: {path}\")"
   ]
  },
  {
   "cell_type": "code",
   "execution_count": 10,
   "id": "5034e6a1",
   "metadata": {},
   "outputs": [],
   "source": [
    "# === 7. Main ===\n",
    "def main():\n",
    "    # === File input ===\n",
    "    output_dir = \"Output\"\n",
    "    os.makedirs(output_dir, exist_ok=True)\n",
    "\n",
    "    file_primotempo = \"Partite/Serie A 2024-25/12a Giornata_Inter-Napoli/Primo tempo_12a Giornata 2024-25_Inter Napoli.xlsx\"\n",
    "    file_secondotempo = \"Partite/Serie A 2024-25/12a Giornata_Inter-Napoli/Secondo tempo_12a Giornata 2024-25_Inter Napoli.xlsx\"\n",
    "\n",
    "    # === Caricamento ===\n",
    "    df1 = load_adjacency_matrix(file_primotempo)\n",
    "    df2 = load_adjacency_matrix(file_secondotempo)\n",
    "    df = merge_halves(df1, df2)\n",
    "\n",
    "    # === Costruzione grafi ===\n",
    "    G1 = build_graph(df1)\n",
    "    G2 = build_graph(df2)\n",
    "    G = build_graph(df)\n",
    "\n",
    "    # === Misure di centralità ===\n",
    "    centrality_1 = compute_centrality(G1)\n",
    "    centrality_2 = compute_centrality(G2)\n",
    "    centrality_full = compute_centrality(G)\n",
    "\n",
    "    exclude_players = [\"Ngonge\", \"Simeone\"]\n",
    "\n",
    "    # === Comunità ===\n",
    "    _, comm_map1 = detect_communities(G1, clean=True)\n",
    "    _, comm_map2 = detect_communities(G2, exclude_nodes=exclude_players)\n",
    "    _, comm_map_full = detect_communities(G, exclude_nodes=exclude_players)\n",
    "\n",
    "    # === DataFrame dei risultati ===\n",
    "    df_metrics1 = create_metrics_df(G1, centrality_1, comm_map1)\n",
    "    df_metrics2 = create_metrics_df(G2, centrality_2, comm_map2)\n",
    "    df_metrics = create_metrics_df(G, centrality_full, comm_map_full)\n",
    "\n",
    "    # === Esportazione ===\n",
    "    export_excel(output_dir, \"analisi_centralita_completa.xlsx\", {\n",
    "        \"Primo Tempo\": df_metrics1,\n",
    "        \"Secondo Tempo\": df_metrics2,\n",
    "        \"Partita Totale\": df_metrics\n",
    "    })\n",
    "\n",
    "    # === Attributi sui nodi ===\n",
    "    for Gx, centrality, comm_map in [(G, centrality_full, comm_map_full),\n",
    "                                     (G1, centrality_1, comm_map1),\n",
    "                                     (G2, centrality_2, comm_map2)]:\n",
    "        for node in Gx.nodes():\n",
    "            for k in centrality:\n",
    "                Gx.nodes[node][k] = centrality[k].get(node, 0)\n",
    "            Gx.nodes[node][\"Community\"] = comm_map.get(node, -1)\n",
    "\n",
    "    # === Esportazione GEXF ===\n",
    "    export_gexf(output_dir, \"rete_partita\", G)\n",
    "    export_gexf(output_dir, \"rete_primo_tempo\", G1)\n",
    "    export_gexf(output_dir, \"rete_secondo_tempo\", G2)"
   ]
  },
  {
   "cell_type": "code",
   "execution_count": 11,
   "id": "00f91f2c",
   "metadata": {},
   "outputs": [
    {
     "ename": "TypeError",
     "evalue": "Bad graph type, use only non directed graph",
     "output_type": "error",
     "traceback": [
      "\u001b[31m---------------------------------------------------------------------------\u001b[39m",
      "\u001b[31mTypeError\u001b[39m                                 Traceback (most recent call last)",
      "\u001b[36mCell\u001b[39m\u001b[36m \u001b[39m\u001b[32mIn[11]\u001b[39m\u001b[32m, line 2\u001b[39m\n\u001b[32m      1\u001b[39m \u001b[38;5;28;01mif\u001b[39;00m \u001b[34m__name__\u001b[39m == \u001b[33m\"\u001b[39m\u001b[33m__main__\u001b[39m\u001b[33m\"\u001b[39m:\n\u001b[32m----> \u001b[39m\u001b[32m2\u001b[39m     \u001b[43mmain\u001b[49m\u001b[43m(\u001b[49m\u001b[43m)\u001b[49m\n",
      "\u001b[36mCell\u001b[39m\u001b[36m \u001b[39m\u001b[32mIn[10]\u001b[39m\u001b[32m, line 28\u001b[39m, in \u001b[36mmain\u001b[39m\u001b[34m()\u001b[39m\n\u001b[32m     25\u001b[39m exclude_players = [\u001b[33m\"\u001b[39m\u001b[33mNgonge\u001b[39m\u001b[33m\"\u001b[39m, \u001b[33m\"\u001b[39m\u001b[33mSimeone\u001b[39m\u001b[33m\"\u001b[39m]\n\u001b[32m     27\u001b[39m \u001b[38;5;66;03m# === Comunità ===\u001b[39;00m\n\u001b[32m---> \u001b[39m\u001b[32m28\u001b[39m _, comm_map1 = \u001b[43mdetect_communities\u001b[49m\u001b[43m(\u001b[49m\u001b[43mG1\u001b[49m\u001b[43m,\u001b[49m\u001b[43m \u001b[49m\u001b[43mclean\u001b[49m\u001b[43m=\u001b[49m\u001b[38;5;28;43;01mTrue\u001b[39;49;00m\u001b[43m)\u001b[49m\n\u001b[32m     29\u001b[39m _, comm_map2 = detect_communities(G2, exclude_nodes=exclude_players)\n\u001b[32m     30\u001b[39m _, comm_map_full = detect_communities(G, exclude_nodes=exclude_players)\n",
      "\u001b[36mCell\u001b[39m\u001b[36m \u001b[39m\u001b[32mIn[9]\u001b[39m\u001b[32m, line 10\u001b[39m, in \u001b[36mdetect_communities\u001b[39m\u001b[34m(G, clean, exclude_nodes)\u001b[39m\n\u001b[32m      7\u001b[39m     G = G.copy()\n\u001b[32m      8\u001b[39m     G.remove_nodes_from(exclude_nodes)\n\u001b[32m---> \u001b[39m\u001b[32m10\u001b[39m communities = \u001b[43malgorithms\u001b[49m\u001b[43m.\u001b[49m\u001b[43mlouvain\u001b[49m\u001b[43m(\u001b[49m\u001b[43mG\u001b[49m\u001b[43m,\u001b[49m\u001b[43m \u001b[49m\u001b[43mweight\u001b[49m\u001b[43m=\u001b[49m\u001b[33;43m'\u001b[39;49m\u001b[33;43mweight\u001b[39;49m\u001b[33;43m'\u001b[39;49m\u001b[43m,\u001b[49m\u001b[43m \u001b[49m\u001b[43mrandomize\u001b[49m\u001b[43m=\u001b[49m\u001b[38;5;28;43;01mFalse\u001b[39;49;00m\u001b[43m)\u001b[49m\n\u001b[32m     11\u001b[39m mapping = {}\n\u001b[32m     12\u001b[39m \u001b[38;5;28;01mfor\u001b[39;00m i, comm \u001b[38;5;129;01min\u001b[39;00m \u001b[38;5;28menumerate\u001b[39m(communities.communities):\n",
      "\u001b[36mFile \u001b[39m\u001b[32mc:\\Users\\fdecaro\\AppData\\Local\\Programs\\Python\\Python313\\Lib\\site-packages\\cdlib\\algorithms\\crisp_partition.py:550\u001b[39m, in \u001b[36mlouvain\u001b[39m\u001b[34m(g_original, partition, weight, resolution, randomize)\u001b[39m\n\u001b[32m    547\u001b[39m             communities[n] = idc\n\u001b[32m    548\u001b[39m     partition = communities\n\u001b[32m--> \u001b[39m\u001b[32m550\u001b[39m coms = \u001b[43mcommunity_louvain\u001b[49m\u001b[43m.\u001b[49m\u001b[43mbest_partition\u001b[49m\u001b[43m(\u001b[49m\n\u001b[32m    551\u001b[39m \u001b[43m    \u001b[49m\u001b[43mg\u001b[49m\u001b[43m,\u001b[49m\n\u001b[32m    552\u001b[39m \u001b[43m    \u001b[49m\u001b[43mpartition\u001b[49m\u001b[43m=\u001b[49m\u001b[43mpartition\u001b[49m\u001b[43m,\u001b[49m\n\u001b[32m    553\u001b[39m \u001b[43m    \u001b[49m\u001b[43mweight\u001b[49m\u001b[43m=\u001b[49m\u001b[43mweight\u001b[49m\u001b[43m,\u001b[49m\n\u001b[32m    554\u001b[39m \u001b[43m    \u001b[49m\u001b[43mresolution\u001b[49m\u001b[43m=\u001b[49m\u001b[43mresolution\u001b[49m\u001b[43m,\u001b[49m\n\u001b[32m    555\u001b[39m \u001b[43m    \u001b[49m\u001b[43mrandomize\u001b[49m\u001b[43m=\u001b[49m\u001b[43mrandomize\u001b[49m\u001b[43m,\u001b[49m\n\u001b[32m    556\u001b[39m \u001b[43m\u001b[49m\u001b[43m)\u001b[49m\n\u001b[32m    558\u001b[39m \u001b[38;5;66;03m# Reshaping the results\u001b[39;00m\n\u001b[32m    559\u001b[39m coms_to_node = defaultdict(\u001b[38;5;28mlist\u001b[39m)\n",
      "\u001b[36mFile \u001b[39m\u001b[32mc:\\Users\\fdecaro\\AppData\\Local\\Programs\\Python\\Python313\\Lib\\site-packages\\community\\community_louvain.py:249\u001b[39m, in \u001b[36mbest_partition\u001b[39m\u001b[34m(graph, partition, weight, resolution, randomize, random_state)\u001b[39m\n\u001b[32m    163\u001b[39m \u001b[38;5;28;01mdef\u001b[39;00m\u001b[38;5;250m \u001b[39m\u001b[34mbest_partition\u001b[39m(graph,\n\u001b[32m    164\u001b[39m                    partition=\u001b[38;5;28;01mNone\u001b[39;00m,\n\u001b[32m    165\u001b[39m                    weight=\u001b[33m'\u001b[39m\u001b[33mweight\u001b[39m\u001b[33m'\u001b[39m,\n\u001b[32m    166\u001b[39m                    resolution=\u001b[32m1.\u001b[39m,\n\u001b[32m    167\u001b[39m                    randomize=\u001b[38;5;28;01mNone\u001b[39;00m,\n\u001b[32m    168\u001b[39m                    random_state=\u001b[38;5;28;01mNone\u001b[39;00m):\n\u001b[32m    169\u001b[39m \u001b[38;5;250m    \u001b[39m\u001b[33;03m\"\"\"Compute the partition of the graph nodes which maximises the modularity\u001b[39;00m\n\u001b[32m    170\u001b[39m \u001b[33;03m    (or try..) using the Louvain heuristices\u001b[39;00m\n\u001b[32m    171\u001b[39m \n\u001b[32m   (...)\u001b[39m\u001b[32m    247\u001b[39m \u001b[33;03m    >>> plt.show()\u001b[39;00m\n\u001b[32m    248\u001b[39m \u001b[33;03m    \"\"\"\u001b[39;00m\n\u001b[32m--> \u001b[39m\u001b[32m249\u001b[39m     dendo = \u001b[43mgenerate_dendrogram\u001b[49m\u001b[43m(\u001b[49m\u001b[43mgraph\u001b[49m\u001b[43m,\u001b[49m\n\u001b[32m    250\u001b[39m \u001b[43m                                \u001b[49m\u001b[43mpartition\u001b[49m\u001b[43m,\u001b[49m\n\u001b[32m    251\u001b[39m \u001b[43m                                \u001b[49m\u001b[43mweight\u001b[49m\u001b[43m,\u001b[49m\n\u001b[32m    252\u001b[39m \u001b[43m                                \u001b[49m\u001b[43mresolution\u001b[49m\u001b[43m,\u001b[49m\n\u001b[32m    253\u001b[39m \u001b[43m                                \u001b[49m\u001b[43mrandomize\u001b[49m\u001b[43m,\u001b[49m\n\u001b[32m    254\u001b[39m \u001b[43m                                \u001b[49m\u001b[43mrandom_state\u001b[49m\u001b[43m)\u001b[49m\n\u001b[32m    255\u001b[39m     \u001b[38;5;28;01mreturn\u001b[39;00m partition_at_level(dendo, \u001b[38;5;28mlen\u001b[39m(dendo) - \u001b[32m1\u001b[39m)\n",
      "\u001b[36mFile \u001b[39m\u001b[32mc:\\Users\\fdecaro\\AppData\\Local\\Programs\\Python\\Python313\\Lib\\site-packages\\community\\community_louvain.py:322\u001b[39m, in \u001b[36mgenerate_dendrogram\u001b[39m\u001b[34m(graph, part_init, weight, resolution, randomize, random_state)\u001b[39m\n\u001b[32m    264\u001b[39m \u001b[38;5;250m\u001b[39m\u001b[33;03m\"\"\"Find communities in the graph and return the associated dendrogram\u001b[39;00m\n\u001b[32m    265\u001b[39m \n\u001b[32m    266\u001b[39m \u001b[33;03mA dendrogram is a tree and each level is a partition of the graph nodes.\u001b[39;00m\n\u001b[32m   (...)\u001b[39m\u001b[32m    319\u001b[39m \u001b[33;03m:type weight:\u001b[39;00m\n\u001b[32m    320\u001b[39m \u001b[33;03m\"\"\"\u001b[39;00m\n\u001b[32m    321\u001b[39m \u001b[38;5;28;01mif\u001b[39;00m graph.is_directed():\n\u001b[32m--> \u001b[39m\u001b[32m322\u001b[39m     \u001b[38;5;28;01mraise\u001b[39;00m \u001b[38;5;167;01mTypeError\u001b[39;00m(\u001b[33m\"\u001b[39m\u001b[33mBad graph type, use only non directed graph\u001b[39m\u001b[33m\"\u001b[39m)\n\u001b[32m    324\u001b[39m \u001b[38;5;66;03m# Properly handle random state, eventually remove old `randomize` parameter\u001b[39;00m\n\u001b[32m    325\u001b[39m \u001b[38;5;66;03m# NOTE: when `randomize` is removed, delete code up to random_state = ...\u001b[39;00m\n\u001b[32m    326\u001b[39m \u001b[38;5;28;01mif\u001b[39;00m randomize \u001b[38;5;129;01mis\u001b[39;00m \u001b[38;5;129;01mnot\u001b[39;00m \u001b[38;5;28;01mNone\u001b[39;00m:\n",
      "\u001b[31mTypeError\u001b[39m: Bad graph type, use only non directed graph"
     ]
    }
   ],
   "source": [
    "if __name__ == \"__main__\":\n",
    "    main()"
   ]
  }
 ],
 "metadata": {
  "kernelspec": {
   "display_name": "Python 3",
   "language": "python",
   "name": "python3"
  },
  "language_info": {
   "codemirror_mode": {
    "name": "ipython",
    "version": 3
   },
   "file_extension": ".py",
   "mimetype": "text/x-python",
   "name": "python",
   "nbconvert_exporter": "python",
   "pygments_lexer": "ipython3",
   "version": "3.13.5"
  }
 },
 "nbformat": 4,
 "nbformat_minor": 5
}
